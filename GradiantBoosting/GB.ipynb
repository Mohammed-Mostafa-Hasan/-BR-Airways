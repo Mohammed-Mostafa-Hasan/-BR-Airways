{
 "cells": [
  {
   "attachments": {},
   "cell_type": "markdown",
   "metadata": {},
   "source": [
    "## Boosting: Fit and evaluate a model\n",
    "\n",
    " we will fit and evaluate a simple Gradient Boosting model."
   ]
  },
  {
   "cell_type": "markdown",
   "metadata": {},
   "source": [
    "### Read in Data"
   ]
  },
  {
   "cell_type": "code",
   "execution_count": 1,
   "metadata": {},
   "outputs": [],
   "source": [
    "import joblib\n",
    "import pandas as pd\n",
    "from sklearn.ensemble import GradientBoostingClassifier\n",
    "from sklearn.model_selection import GridSearchCV\n",
    "import warnings\n",
    "warnings.filterwarnings('ignore', category=FutureWarning)\n",
    "warnings.filterwarnings('ignore', category=DeprecationWarning)\n",
    "\n",
    "tr_features = pd.read_csv('../Data/train_features.csv')\n",
    "tr_labels = pd.read_csv('../Data/train_labels.csv')"
   ]
  },
  {
   "attachments": {},
   "cell_type": "markdown",
   "metadata": {},
   "source": [
    "### Hyperparameter tuning\n"
   ]
  },
  {
   "cell_type": "code",
   "execution_count": 3,
   "metadata": {},
   "outputs": [],
   "source": [
    "def print_results(results):\n",
    "    print('BEST PARAMS: {}\\n'.format(results.best_params_))\n",
    "\n",
    "    means = results.cv_results_['mean_test_score']\n",
    "    stds = results.cv_results_['std_test_score']\n",
    "    for mean, std, params in zip(means, stds, results.cv_results_['params']):\n",
    "        print('{} (+/-{}) for {}'.format(round(mean, 3), round(std * 2, 3), params))"
   ]
  },
  {
   "cell_type": "code",
   "execution_count": 4,
   "metadata": {},
   "outputs": [
    {
     "name": "stdout",
     "output_type": "stream",
     "text": [
      "BEST PARAMS: {'learning_rate': 0.1, 'max_depth': 3, 'n_estimators': 50}\n",
      "\n",
      "0.85 (+/-0.0) for {'learning_rate': 0.01, 'max_depth': 1, 'n_estimators': 5}\n",
      "0.85 (+/-0.0) for {'learning_rate': 0.01, 'max_depth': 1, 'n_estimators': 50}\n",
      "0.85 (+/-0.0) for {'learning_rate': 0.01, 'max_depth': 1, 'n_estimators': 250}\n",
      "0.85 (+/-0.0) for {'learning_rate': 0.01, 'max_depth': 1, 'n_estimators': 500}\n",
      "0.85 (+/-0.0) for {'learning_rate': 0.01, 'max_depth': 3, 'n_estimators': 5}\n",
      "0.85 (+/-0.0) for {'learning_rate': 0.01, 'max_depth': 3, 'n_estimators': 50}\n",
      "0.85 (+/-0.0) for {'learning_rate': 0.01, 'max_depth': 3, 'n_estimators': 250}\n",
      "0.85 (+/-0.001) for {'learning_rate': 0.01, 'max_depth': 3, 'n_estimators': 500}\n",
      "0.85 (+/-0.0) for {'learning_rate': 0.01, 'max_depth': 5, 'n_estimators': 5}\n",
      "0.85 (+/-0.0) for {'learning_rate': 0.01, 'max_depth': 5, 'n_estimators': 50}\n",
      "0.85 (+/-0.0) for {'learning_rate': 0.01, 'max_depth': 5, 'n_estimators': 250}\n",
      "0.85 (+/-0.001) for {'learning_rate': 0.01, 'max_depth': 5, 'n_estimators': 500}\n",
      "0.85 (+/-0.0) for {'learning_rate': 0.01, 'max_depth': 7, 'n_estimators': 5}\n",
      "0.85 (+/-0.0) for {'learning_rate': 0.01, 'max_depth': 7, 'n_estimators': 50}\n",
      "0.85 (+/-0.001) for {'learning_rate': 0.01, 'max_depth': 7, 'n_estimators': 250}\n",
      "0.85 (+/-0.005) for {'learning_rate': 0.01, 'max_depth': 7, 'n_estimators': 500}\n",
      "0.85 (+/-0.0) for {'learning_rate': 0.01, 'max_depth': 9, 'n_estimators': 5}\n",
      "0.85 (+/-0.0) for {'learning_rate': 0.01, 'max_depth': 9, 'n_estimators': 50}\n",
      "0.85 (+/-0.005) for {'learning_rate': 0.01, 'max_depth': 9, 'n_estimators': 250}\n",
      "0.848 (+/-0.005) for {'learning_rate': 0.01, 'max_depth': 9, 'n_estimators': 500}\n",
      "0.85 (+/-0.0) for {'learning_rate': 0.1, 'max_depth': 1, 'n_estimators': 5}\n",
      "0.85 (+/-0.0) for {'learning_rate': 0.1, 'max_depth': 1, 'n_estimators': 50}\n",
      "0.85 (+/-0.001) for {'learning_rate': 0.1, 'max_depth': 1, 'n_estimators': 250}\n",
      "0.85 (+/-0.001) for {'learning_rate': 0.1, 'max_depth': 1, 'n_estimators': 500}\n",
      "0.85 (+/-0.0) for {'learning_rate': 0.1, 'max_depth': 3, 'n_estimators': 5}\n",
      "0.85 (+/-0.001) for {'learning_rate': 0.1, 'max_depth': 3, 'n_estimators': 50}\n",
      "0.85 (+/-0.004) for {'learning_rate': 0.1, 'max_depth': 3, 'n_estimators': 250}\n",
      "0.849 (+/-0.004) for {'learning_rate': 0.1, 'max_depth': 3, 'n_estimators': 500}\n",
      "0.85 (+/-0.0) for {'learning_rate': 0.1, 'max_depth': 5, 'n_estimators': 5}\n",
      "0.85 (+/-0.002) for {'learning_rate': 0.1, 'max_depth': 5, 'n_estimators': 50}\n",
      "0.849 (+/-0.007) for {'learning_rate': 0.1, 'max_depth': 5, 'n_estimators': 250}\n",
      "0.844 (+/-0.005) for {'learning_rate': 0.1, 'max_depth': 5, 'n_estimators': 500}\n",
      "0.85 (+/-0.0) for {'learning_rate': 0.1, 'max_depth': 7, 'n_estimators': 5}\n",
      "0.85 (+/-0.003) for {'learning_rate': 0.1, 'max_depth': 7, 'n_estimators': 50}\n",
      "0.845 (+/-0.006) for {'learning_rate': 0.1, 'max_depth': 7, 'n_estimators': 250}\n",
      "0.842 (+/-0.003) for {'learning_rate': 0.1, 'max_depth': 7, 'n_estimators': 500}\n",
      "0.849 (+/-0.001) for {'learning_rate': 0.1, 'max_depth': 9, 'n_estimators': 5}\n",
      "0.847 (+/-0.002) for {'learning_rate': 0.1, 'max_depth': 9, 'n_estimators': 50}\n",
      "0.843 (+/-0.007) for {'learning_rate': 0.1, 'max_depth': 9, 'n_estimators': 250}\n",
      "0.842 (+/-0.008) for {'learning_rate': 0.1, 'max_depth': 9, 'n_estimators': 500}\n",
      "0.85 (+/-0.0) for {'learning_rate': 1, 'max_depth': 1, 'n_estimators': 5}\n",
      "0.849 (+/-0.002) for {'learning_rate': 1, 'max_depth': 1, 'n_estimators': 50}\n",
      "0.849 (+/-0.004) for {'learning_rate': 1, 'max_depth': 1, 'n_estimators': 250}\n",
      "0.849 (+/-0.004) for {'learning_rate': 1, 'max_depth': 1, 'n_estimators': 500}\n",
      "0.846 (+/-0.002) for {'learning_rate': 1, 'max_depth': 3, 'n_estimators': 5}\n",
      "0.842 (+/-0.005) for {'learning_rate': 1, 'max_depth': 3, 'n_estimators': 50}\n",
      "0.828 (+/-0.005) for {'learning_rate': 1, 'max_depth': 3, 'n_estimators': 250}\n",
      "0.823 (+/-0.002) for {'learning_rate': 1, 'max_depth': 3, 'n_estimators': 500}\n",
      "0.844 (+/-0.007) for {'learning_rate': 1, 'max_depth': 5, 'n_estimators': 5}\n",
      "0.824 (+/-0.005) for {'learning_rate': 1, 'max_depth': 5, 'n_estimators': 50}\n",
      "0.813 (+/-0.008) for {'learning_rate': 1, 'max_depth': 5, 'n_estimators': 250}\n",
      "0.812 (+/-0.013) for {'learning_rate': 1, 'max_depth': 5, 'n_estimators': 500}\n",
      "0.838 (+/-0.01) for {'learning_rate': 1, 'max_depth': 7, 'n_estimators': 5}\n",
      "0.81 (+/-0.011) for {'learning_rate': 1, 'max_depth': 7, 'n_estimators': 50}\n",
      "0.819 (+/-0.01) for {'learning_rate': 1, 'max_depth': 7, 'n_estimators': 250}\n",
      "0.819 (+/-0.037) for {'learning_rate': 1, 'max_depth': 7, 'n_estimators': 500}\n",
      "0.82 (+/-0.01) for {'learning_rate': 1, 'max_depth': 9, 'n_estimators': 5}\n",
      "0.814 (+/-0.012) for {'learning_rate': 1, 'max_depth': 9, 'n_estimators': 50}\n",
      "0.832 (+/-0.008) for {'learning_rate': 1, 'max_depth': 9, 'n_estimators': 250}\n",
      "0.831 (+/-0.013) for {'learning_rate': 1, 'max_depth': 9, 'n_estimators': 500}\n",
      "0.15 (+/-0.0) for {'learning_rate': 10, 'max_depth': 1, 'n_estimators': 5}\n",
      "0.15 (+/-0.0) for {'learning_rate': 10, 'max_depth': 1, 'n_estimators': 50}\n",
      "0.15 (+/-0.0) for {'learning_rate': 10, 'max_depth': 1, 'n_estimators': 250}\n",
      "0.15 (+/-0.0) for {'learning_rate': 10, 'max_depth': 1, 'n_estimators': 500}\n",
      "0.295 (+/-0.21) for {'learning_rate': 10, 'max_depth': 3, 'n_estimators': 5}\n",
      "0.295 (+/-0.21) for {'learning_rate': 10, 'max_depth': 3, 'n_estimators': 50}\n",
      "0.295 (+/-0.21) for {'learning_rate': 10, 'max_depth': 3, 'n_estimators': 250}\n",
      "0.295 (+/-0.21) for {'learning_rate': 10, 'max_depth': 3, 'n_estimators': 500}\n",
      "0.305 (+/-0.103) for {'learning_rate': 10, 'max_depth': 5, 'n_estimators': 5}\n",
      "0.3 (+/-0.106) for {'learning_rate': 10, 'max_depth': 5, 'n_estimators': 50}\n",
      "0.3 (+/-0.106) for {'learning_rate': 10, 'max_depth': 5, 'n_estimators': 250}\n",
      "0.3 (+/-0.106) for {'learning_rate': 10, 'max_depth': 5, 'n_estimators': 500}\n",
      "0.425 (+/-0.233) for {'learning_rate': 10, 'max_depth': 7, 'n_estimators': 5}\n",
      "0.468 (+/-0.254) for {'learning_rate': 10, 'max_depth': 7, 'n_estimators': 50}\n",
      "0.441 (+/-0.232) for {'learning_rate': 10, 'max_depth': 7, 'n_estimators': 250}\n",
      "0.441 (+/-0.233) for {'learning_rate': 10, 'max_depth': 7, 'n_estimators': 500}\n",
      "0.43 (+/-0.052) for {'learning_rate': 10, 'max_depth': 9, 'n_estimators': 5}\n",
      "0.486 (+/-0.228) for {'learning_rate': 10, 'max_depth': 9, 'n_estimators': 50}\n",
      "0.457 (+/-0.095) for {'learning_rate': 10, 'max_depth': 9, 'n_estimators': 250}\n",
      "0.437 (+/-0.127) for {'learning_rate': 10, 'max_depth': 9, 'n_estimators': 500}\n",
      "0.15 (+/-0.0) for {'learning_rate': 100, 'max_depth': 1, 'n_estimators': 5}\n",
      "0.15 (+/-0.0) for {'learning_rate': 100, 'max_depth': 1, 'n_estimators': 50}\n",
      "0.15 (+/-0.0) for {'learning_rate': 100, 'max_depth': 1, 'n_estimators': 250}\n",
      "0.15 (+/-0.0) for {'learning_rate': 100, 'max_depth': 1, 'n_estimators': 500}\n",
      "0.319 (+/-0.026) for {'learning_rate': 100, 'max_depth': 3, 'n_estimators': 5}\n",
      "0.319 (+/-0.026) for {'learning_rate': 100, 'max_depth': 3, 'n_estimators': 50}\n",
      "0.319 (+/-0.026) for {'learning_rate': 100, 'max_depth': 3, 'n_estimators': 250}\n",
      "0.319 (+/-0.026) for {'learning_rate': 100, 'max_depth': 3, 'n_estimators': 500}\n",
      "0.347 (+/-0.128) for {'learning_rate': 100, 'max_depth': 5, 'n_estimators': 5}\n",
      "0.347 (+/-0.128) for {'learning_rate': 100, 'max_depth': 5, 'n_estimators': 50}\n",
      "0.347 (+/-0.128) for {'learning_rate': 100, 'max_depth': 5, 'n_estimators': 250}\n",
      "0.347 (+/-0.128) for {'learning_rate': 100, 'max_depth': 5, 'n_estimators': 500}\n",
      "0.384 (+/-0.12) for {'learning_rate': 100, 'max_depth': 7, 'n_estimators': 5}\n",
      "0.382 (+/-0.118) for {'learning_rate': 100, 'max_depth': 7, 'n_estimators': 50}\n",
      "0.384 (+/-0.117) for {'learning_rate': 100, 'max_depth': 7, 'n_estimators': 250}\n",
      "0.385 (+/-0.118) for {'learning_rate': 100, 'max_depth': 7, 'n_estimators': 500}\n",
      "0.464 (+/-0.121) for {'learning_rate': 100, 'max_depth': 9, 'n_estimators': 5}\n",
      "0.453 (+/-0.112) for {'learning_rate': 100, 'max_depth': 9, 'n_estimators': 50}\n",
      "0.51 (+/-0.15) for {'learning_rate': 100, 'max_depth': 9, 'n_estimators': 250}\n",
      "0.486 (+/-0.099) for {'learning_rate': 100, 'max_depth': 9, 'n_estimators': 500}\n"
     ]
    }
   ],
   "source": [
    "gb = GradientBoostingClassifier()\n",
    "parameters = {\n",
    "    'n_estimators': [5, 50, 250, 500],\n",
    "    'max_depth': [1, 3, 5, 7, 9],\n",
    "    'learning_rate': [0.01, 0.1, 1, 10, 100]\n",
    "}\n",
    "\n",
    "cv = GridSearchCV(gb, parameters, cv=5)\n",
    "cv.fit(tr_features, tr_labels.values.ravel())\n",
    "\n",
    "print_results(cv)"
   ]
  },
  {
   "cell_type": "markdown",
   "metadata": {},
   "source": [
    "### Write out pickled model"
   ]
  },
  {
   "cell_type": "code",
   "execution_count": 6,
   "metadata": {},
   "outputs": [
    {
     "data": {
      "text/plain": [
       "['../../GB_model.pkl']"
      ]
     },
     "execution_count": 6,
     "metadata": {},
     "output_type": "execute_result"
    }
   ],
   "source": [
    "joblib.dump(cv.best_estimator_, '../Saved_models/GB_model.pkl')"
   ]
  },
  {
   "cell_type": "code",
   "execution_count": null,
   "metadata": {},
   "outputs": [],
   "source": []
  }
 ],
 "metadata": {
  "kernelspec": {
   "display_name": "Python 3",
   "language": "python",
   "name": "python3"
  },
  "language_info": {
   "codemirror_mode": {
    "name": "ipython",
    "version": 3
   },
   "file_extension": ".py",
   "mimetype": "text/x-python",
   "name": "python",
   "nbconvert_exporter": "python",
   "pygments_lexer": "ipython3",
   "version": "3.9.12"
  }
 },
 "nbformat": 4,
 "nbformat_minor": 2
}
